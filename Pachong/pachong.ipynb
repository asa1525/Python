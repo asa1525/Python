{
 "cells": [
  {
   "cell_type": "code",
   "execution_count": 1,
   "metadata": {},
   "outputs": [
    {
     "data": {
      "text/plain": [
       "b'<!DOCTYPE html>\\n<html lang=\"en-US\">\\n  <head>\\n    <'"
      ]
     },
     "execution_count": 1,
     "metadata": {},
     "output_type": "execute_result"
    }
   ],
   "source": [
    "from urllib import request\n",
    "url = 'http://www.dscademy.com/languages/python/crawler-example.html'\n",
    "raw_content = request.urlopen(url).read()\n",
    "raw_content[:50]"
   ]
  },
  {
   "cell_type": "code",
   "execution_count": 2,
   "metadata": {},
   "outputs": [],
   "source": [
    "from bs4 import BeautifulSoup\n",
    "page = BeautifulSoup(raw_content, 'html5lib')"
   ]
  },
  {
   "cell_type": "code",
   "execution_count": 3,
   "metadata": {},
   "outputs": [
    {
     "name": "stdout",
     "output_type": "stream",
     "text": [
      "<div class=\"links\">\n",
      "      <ol>\n",
      "        <li><a href=\"/languages/python/basic.php\">基本用法</a></li>\n",
      "        <li><a href=\"/languages/python/file.php\">文件处理</a></li>\n",
      "        <li><a href=\"/languages/python/scripting.php\">脚本</a></li>\n",
      "        <li><a href=\"/languages/python/oop.php\">面向对象</a></li>\n",
      "        <li><a href=\"/languages/python/data-structure.php\">常用数据结构</a></li>\n",
      "        <li><a href=\"/languages/python/nlp.php\">自然语言处理</a></li>\n",
      "        <li><a href=\"/languages/python/crawler.php\">网络爬虫</a></li>\n",
      "        <li><a href=\"/languages/python/cv.php\">计算机视觉</a></li>\n",
      "        <li><a href=\"/languages/python/data-analysis.php\">数据分析</a></li>\n",
      "        <li><a href=\"/languages/python/ml.php\">机器学习</a></li>\n",
      "        <li><a href=\"/languages/python/pythonic.php\">Pythonic写法</a></li>\n",
      "      </ol>\n",
      "    </div>\n"
     ]
    }
   ],
   "source": [
    "div = page.find(class_='links')\n",
    "print(div)"
   ]
  },
  {
   "cell_type": "code",
   "execution_count": 4,
   "metadata": {},
   "outputs": [],
   "source": [
    "links = div.find_all('a')"
   ]
  },
  {
   "cell_type": "code",
   "execution_count": null,
   "metadata": {},
   "outputs": [],
   "source": [
    "from urllib import parse\n",
    "base_url = 'http://www.dscademy.com'\n",
    "for link in links:\n",
    "    href = parse.urljoin(base_url, link)"
   ]
  }
 ],
 "metadata": {
  "kernelspec": {
   "display_name": "Python 3",
   "language": "python",
   "name": "python3"
  },
  "language_info": {
   "codemirror_mode": {
    "name": "ipython",
    "version": 3
   },
   "file_extension": ".py",
   "mimetype": "text/x-python",
   "name": "python",
   "nbconvert_exporter": "python",
   "pygments_lexer": "ipython3",
   "version": "3.6.6"
  }
 },
 "nbformat": 4,
 "nbformat_minor": 2
}
