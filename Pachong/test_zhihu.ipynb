{
 "cells": [
  {
   "cell_type": "code",
   "execution_count": 2,
   "metadata": {},
   "outputs": [
    {
     "ename": "SyntaxError",
     "evalue": "invalid syntax (<ipython-input-2-e09f3ec3ccc8>, line 49)",
     "output_type": "error",
     "traceback": [
      "\u001b[1;36m  File \u001b[1;32m\"<ipython-input-2-e09f3ec3ccc8>\"\u001b[1;36m, line \u001b[1;32m49\u001b[0m\n\u001b[1;33m    except Exception,e:\u001b[0m\n\u001b[1;37m                    ^\u001b[0m\n\u001b[1;31mSyntaxError\u001b[0m\u001b[1;31m:\u001b[0m invalid syntax\n"
     ]
    }
   ],
   "source": [
    "import sys\n",
    "import urllib2\n",
    "import re\n",
    "reload(sys)\n",
    "\n",
    "sys.setdefaultencoding('utf-8') #输出内容是utf-8 格式\n",
    "\n",
    "url = \"http://daily.zhihu.com/\"\n",
    "\n",
    "#获取网页源码\n",
    "def getHtml(url):\n",
    "    header = {\"User-Agent\":\"Mozilla/5.0 (Macintosh; Intel Mac OS X 10.12; rv:48.0) Gecko/20100101 Firefox/48.0\"}\n",
    "    request = urllib2.Request(url=url,headers=header) #模拟浏览器进行访问\n",
    "    response = urllib2.urlopen(request)\n",
    "    text = response.read()\n",
    "    return text\n",
    "\n",
    "\n",
    "#通过解析html解析超链接\n",
    "def getUrls(html):\n",
    "    pattern = re.compile('<a href=\"/story/(.*?)\"') #提高效率\n",
    "    items = re.findall(pattern,html)\n",
    "    urls = [] #链接的list\n",
    "    for item in items:\n",
    "        urls.append('http://daily.zhihu.com/story/' + item)  # 拼接参数\n",
    "    return urls\n",
    "\n",
    "#解析日报内容(标题+正文)\n",
    "def getContent(url):\n",
    "    html = getHtml(url)\n",
    "    pattern = re.compile('<h1 class=\"headline-title\">(.*?)</h1>')\n",
    "    items = re.findall(pattern,html)\n",
    "    # print items[0]\n",
    "    #匹配文章内容\n",
    "    pattern = re.compile('<div class=\"content\">\\\\n<p>(.*?)</div>',re.S)  #re.S匹配换行符\n",
    "    items_withtag = re.findall(pattern,html)\n",
    "    for item in items_withtag:\n",
    "        dr = re.compile(r'<[^>]+>', re.S)\n",
    "        dd = dr.sub('', item)\n",
    "        print (dd)\n",
    "#去掉正文中间的杂质(标签之类的)\n",
    "\n",
    "\n",
    "html = getHtml(url)\n",
    "urls = getUrls(html)\n",
    "for url in urls:\n",
    "    try:\n",
    "        getContent(url)\n",
    "    except Exception,e:\n",
    "        print (e)"
   ]
  },
  {
   "cell_type": "code",
   "execution_count": null,
   "metadata": {},
   "outputs": [],
   "source": []
  }
 ],
 "metadata": {
  "kernelspec": {
   "display_name": "Python 3",
   "language": "python",
   "name": "python3"
  },
  "language_info": {
   "codemirror_mode": {
    "name": "ipython",
    "version": 3
   },
   "file_extension": ".py",
   "mimetype": "text/x-python",
   "name": "python",
   "nbconvert_exporter": "python",
   "pygments_lexer": "ipython3",
   "version": "3.6.6"
  }
 },
 "nbformat": 4,
 "nbformat_minor": 2
}
