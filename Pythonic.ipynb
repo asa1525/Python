{
 "cells": [
  {
   "cell_type": "code",
   "execution_count": 2,
   "metadata": {},
   "outputs": [],
   "source": [
    "# list comprehension\n",
    "\n",
    "nums = [-3, -2, -1, 0, 1, 2, 3]\n",
    "\n",
    "result = [nums * 2 for num in nums]"
   ]
  },
  {
   "cell_type": "code",
   "execution_count": 3,
   "metadata": {},
   "outputs": [],
   "source": [
    "nums = [-3, -2, -1, 0, 1, 2, 3]\n",
    "\n",
    "result = [nums * 2 for num in nums if num > 0]"
   ]
  },
  {
   "cell_type": "code",
   "execution_count": 14,
   "metadata": {},
   "outputs": [],
   "source": [
    "# dict comprhension\n",
    "\n",
    "nums = [3, 2, 1, 6, 8, 7, 4, 5, -1]\n",
    "\n",
    "result = {nums[i]: i for i in range(len(nums)) if nums[i] > 0}"
   ]
  },
  {
   "cell_type": "code",
   "execution_count": 18,
   "metadata": {},
   "outputs": [
    {
     "name": "stdout",
     "output_type": "stream",
     "text": [
      "0 1\n",
      "1 3\n",
      "2 5\n",
      "\n",
      " 1 2\n",
      "\n",
      " 3 4\n",
      "\n",
      " 5 6\n"
     ]
    }
   ],
   "source": [
    "# Other\n",
    "\n",
    "## if else\n",
    "# return 1 if 2 == 2 else 0\n",
    "'''\n",
    "----\n",
    "'''\n",
    "\n",
    "### enumerate\n",
    "nums = [1, 3, 5]\n",
    "for i, num in enumerate(nums):\n",
    "    print(i, num)\n",
    "    \n",
    "##### zip\n",
    "\n",
    "nums1 = [1, 3, 5]\n",
    "nums2 = [2, 4, 6]\n",
    "for num1, num2 in zip(nums1, nums2):\n",
    "  print('\\n',num1, num2)"
   ]
  },
  {
   "cell_type": "code",
   "execution_count": 25,
   "metadata": {},
   "outputs": [
    {
     "name": "stdout",
     "output_type": "stream",
     "text": [
      "[2, 4, 6]\n"
     ]
    },
    {
     "data": {
      "text/plain": [
       "[2, 4, 6]"
      ]
     },
     "execution_count": 25,
     "metadata": {},
     "output_type": "execute_result"
    }
   ],
   "source": [
    "# lambda\n",
    "f = lambda x: x + 1\n",
    "\n",
    "## map\n",
    "nums = [1, 2 ,3]\n",
    "result = list(map(lambda num: num * 2, nums))\n",
    "print(result)\n",
    "\n",
    "### filter\n",
    "nums = [-3, -2, -1, 0, 1, 2, 3]\n",
    "result = list(filter(lambda num: num > 0, nums))\n",
    "### or filter2\n",
    "list(map(lambda num: num * 2, filter(lambda num: num > 0, nums)))"
   ]
  },
  {
   "cell_type": "code",
   "execution_count": 26,
   "metadata": {},
   "outputs": [
    {
     "name": "stdout",
     "output_type": "stream",
     "text": [
      "0\n",
      "1\n",
      "2\n",
      "3\n",
      "4\n"
     ]
    }
   ],
   "source": [
    "# yield\n",
    "\n",
    "def incrementor():\n",
    "    curr = 0\n",
    "    while True:\n",
    "        yield curr\n",
    "        curr += 1\n",
    "        \n",
    "f = incrementor()\n",
    "for i in range(5):\n",
    "    print(f.__next__())"
   ]
  },
  {
   "cell_type": "code",
   "execution_count": null,
   "metadata": {},
   "outputs": [],
   "source": []
  }
 ],
 "metadata": {
  "kernelspec": {
   "display_name": "Python 3",
   "language": "python",
   "name": "python3"
  },
  "language_info": {
   "codemirror_mode": {
    "name": "ipython",
    "version": 3
   },
   "file_extension": ".py",
   "mimetype": "text/x-python",
   "name": "python",
   "nbconvert_exporter": "python",
   "pygments_lexer": "ipython3",
   "version": "3.6.6"
  }
 },
 "nbformat": 4,
 "nbformat_minor": 2
}
