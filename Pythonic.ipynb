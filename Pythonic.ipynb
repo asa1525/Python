{
 "cells": [
  {
   "cell_type": "code",
   "execution_count": 2,
   "metadata": {},
   "outputs": [],
   "source": [
    "# list comprehension\n",
    "\n",
    "nums = [-3, -2, -1, 0, 1, 2, 3]\n",
    "\n",
    "result = [nums * 2 for num in nums]"
   ]
  },
  {
   "cell_type": "code",
   "execution_count": 3,
   "metadata": {},
   "outputs": [],
   "source": [
    "nums = [-3, -2, -1, 0, 1, 2, 3]\n",
    "\n",
    "result = [nums * 2 for num in nums if num > 0]"
   ]
  },
  {
   "cell_type": "code",
   "execution_count": 14,
   "metadata": {},
   "outputs": [],
   "source": [
    "# dict comprhension\n",
    "\n",
    "nums = [3, 2, 1, 6, 8, 7, 4, 5, -1]\n",
    "\n",
    "result = {nums[i]: i for i in range(len(nums)) if nums[i] > 0}"
   ]
  },
  {
   "cell_type": "code",
   "execution_count": 18,
   "metadata": {},
   "outputs": [
    {
     "name": "stdout",
     "output_type": "stream",
     "text": [
      "0 1\n",
      "1 3\n",
      "2 5\n",
      "\n",
      " 1 2\n",
      "\n",
      " 3 4\n",
      "\n",
      " 5 6\n"
     ]
    }
   ],
   "source": [
    "# Other\n",
    "\n",
    "## if else\n",
    "# return 1 if 2 == 2 else 0\n",
    "'''\n",
    "----\n",
    "'''\n",
    "\n",
    "### enumerate\n",
    "nums = [1, 3, 5]\n",
    "for i, num in enumerate(nums):\n",
    "    print(i, num)\n",
    "    \n",
    "##### zip\n",
    "\n",
    "nums1 = [1, 3, 5]\n",
    "nums2 = [2, 4, 6]\n",
    "for num1, num2 in zip(nums1, nums2):\n",
    "  print('\\n',num1, num2)"
   ]
  },
  {
   "cell_type": "code",
   "execution_count": 25,
   "metadata": {},
   "outputs": [
    {
     "name": "stdout",
     "output_type": "stream",
     "text": [
      "[2, 4, 6]\n"
     ]
    },
    {
     "data": {
      "text/plain": [
       "[2, 4, 6]"
      ]
     },
     "execution_count": 25,
     "metadata": {},
     "output_type": "execute_result"
    }
   ],
   "source": [
    "# lambda\n",
    "f = lambda x: x + 1\n",
    "\n",
    "## map\n",
    "nums = [1, 2 ,3]\n",
    "result = list(map(lambda num: num * 2, nums))\n",
    "print(result)\n",
    "\n",
    "### filter\n",
    "nums = [-3, -2, -1, 0, 1, 2, 3]\n",
    "result = list(filter(lambda num: num > 0, nums))\n",
    "### or filter2\n",
    "list(map(lambda num: num * 2, filter(lambda num: num > 0, nums)))"
   ]
  },
  {
   "cell_type": "code",
   "execution_count": 26,
   "metadata": {},
   "outputs": [
    {
     "name": "stdout",
     "output_type": "stream",
     "text": [
      "0\n",
      "1\n",
      "2\n",
      "3\n",
      "4\n"
     ]
    }
   ],
   "source": [
    "# yield\n",
    "\n",
    "def incrementor():\n",
    "    curr = 0\n",
    "    while True:\n",
    "        yield curr\n",
    "        curr += 1\n",
    "        \n",
    "f = incrementor()\n",
    "for i in range(5):\n",
    "    print(f.__next__())"
   ]
  },
  {
   "cell_type": "code",
   "execution_count": 2,
   "metadata": {},
   "outputs": [
    {
     "name": "stdout",
     "output_type": "stream",
     "text": [
      "derived show\n"
     ]
    }
   ],
   "source": [
    "# 1. class\n",
    "class A(object):\n",
    "    def show(self):\n",
    "        print(\"base show\")\n",
    "        \n",
    "class B(A):\n",
    "    def show(self):\n",
    "        print(\"derived show\")\n",
    "        \n",
    "obj = B()\n",
    "obj.show()"
   ]
  },
  {
   "cell_type": "code",
   "execution_count": 5,
   "metadata": {},
   "outputs": [],
   "source": [
    "#obj.__class__ = A.obj.show()"
   ]
  },
  {
   "cell_type": "code",
   "execution_count": 7,
   "metadata": {},
   "outputs": [
    {
     "name": "stdout",
     "output_type": "stream",
     "text": [
      "a= 10 b= 20\n",
      "call: 90\n"
     ]
    }
   ],
   "source": [
    "#2 方法对象\n",
    "class A(object):\n",
    "    def __init__(self,a,b):\n",
    "        self.__a = a\n",
    "        self.__b = b\n",
    "    def myprint(self):\n",
    "        print('a=', self.__a, 'b=', self.__b)\n",
    "    # use call\n",
    "    def __call__(self, num):\n",
    "        print('call:', num + self.__a)\n",
    "        \n",
    "a1 = A(10, 20)\n",
    "a1.myprint()\n",
    "a1(80)"
   ]
  },
  {
   "cell_type": "code",
   "execution_count": 14,
   "metadata": {},
   "outputs": [
    {
     "name": "stdout",
     "output_type": "stream",
     "text": [
      "NEW 5\n",
      "B INIT\n"
     ]
    },
    {
     "ename": "TypeError",
     "evalue": "'a1' is an invalid keyword argument for this function",
     "output_type": "error",
     "traceback": [
      "\u001b[1;31m---------------------------------------------------------------------------\u001b[0m",
      "\u001b[1;31mTypeError\u001b[0m                                 Traceback (most recent call last)",
      "\u001b[1;32m<ipython-input-14-a1e421b93dbb>\u001b[0m in \u001b[0;36m<module>\u001b[1;34m()\u001b[0m\n\u001b[0;32m     19\u001b[0m         \u001b[0mprint\u001b[0m\u001b[1;33m(\u001b[0m\u001b[1;34m\"INIT\"\u001b[0m\u001b[1;33m,\u001b[0m \u001b[0ma\u001b[0m\u001b[1;33m)\u001b[0m\u001b[1;33m\u001b[0m\u001b[0m\n\u001b[0;32m     20\u001b[0m \u001b[1;33m\u001b[0m\u001b[0m\n\u001b[1;32m---> 21\u001b[1;33m \u001b[0mprint\u001b[0m\u001b[1;33m(\u001b[0m\u001b[1;34m\"a1:\"\u001b[0m\u001b[1;33m,\u001b[0m\u001b[0ma1\u001b[0m \u001b[1;33m=\u001b[0m \u001b[0mA\u001b[0m\u001b[1;33m(\u001b[0m\u001b[1;36m5\u001b[0m\u001b[1;33m)\u001b[0m\u001b[1;33m)\u001b[0m\u001b[1;33m\u001b[0m\u001b[0m\n\u001b[0m\u001b[0;32m     22\u001b[0m \u001b[0mprint\u001b[0m\u001b[1;33m(\u001b[0m\u001b[1;34m\"a1.fn:\"\u001b[0m\u001b[1;33m,\u001b[0m\u001b[0ma1\u001b[0m\u001b[1;33m.\u001b[0m\u001b[0mfn\u001b[0m\u001b[1;33m(\u001b[0m\u001b[1;33m)\u001b[0m\u001b[1;33m)\u001b[0m\u001b[1;33m\u001b[0m\u001b[0m\n\u001b[0;32m     23\u001b[0m \u001b[0mprint\u001b[0m\u001b[1;33m(\u001b[0m\u001b[1;34m\"a2:\"\u001b[0m\u001b[1;33m,\u001b[0m\u001b[0ma2\u001b[0m\u001b[1;33m=\u001b[0m\u001b[0mA\u001b[0m\u001b[1;33m(\u001b[0m\u001b[1;36m20\u001b[0m\u001b[1;33m)\u001b[0m\u001b[1;33m)\u001b[0m\u001b[1;33m\u001b[0m\u001b[0m\n",
      "\u001b[1;31mTypeError\u001b[0m: 'a1' is an invalid keyword argument for this function"
     ]
    }
   ],
   "source": [
    "#3 new and init\n",
    "class B(object):\n",
    "    def fn(self):\n",
    "        print('B fn')\n",
    "    def __init__(self):\n",
    "        print(\"B INIT\")\n",
    "        \n",
    "class A(object):\n",
    "    def fn(self):\n",
    "        print(\"A fn\")\n",
    "        \n",
    "    def __new__(cls, a):\n",
    "        print(\"NEW\", a)\n",
    "        if a > 10:\n",
    "            return super(A, cls).__new__(cls)\n",
    "        return B()\n",
    "    \n",
    "    def __init__(self, a):\n",
    "        print(\"INIT\", a)\n",
    "        \n",
    "print(\"a1:\",a1 = A(5))\n",
    "print(\"a1.fn:\",a1.fn())\n",
    "print(\"a2:\",a2=A(20))\n",
    "print(\"a2.fn:\",a2.fn())"
   ]
  },
  {
   "cell_type": "code",
   "execution_count": 16,
   "metadata": {},
   "outputs": [
    {
     "name": "stdout",
     "output_type": "stream",
     "text": [
      "9\n",
      "None\n",
      "None\n",
      "20\n",
      "None\n"
     ]
    }
   ],
   "source": [
    "#5. global\n",
    "num = 9\n",
    "def f1():\n",
    "    global num\n",
    "    num = 20\n",
    "def f2():\n",
    "    print(num)\n",
    "print(f2())\n",
    "print(f1())\n",
    "print(f2())"
   ]
  },
  {
   "cell_type": "code",
   "execution_count": null,
   "metadata": {},
   "outputs": [],
   "source": []
  }
 ],
 "metadata": {
  "kernelspec": {
   "display_name": "Python 3",
   "language": "python",
   "name": "python3"
  },
  "language_info": {
   "codemirror_mode": {
    "name": "ipython",
    "version": 3
   },
   "file_extension": ".py",
   "mimetype": "text/x-python",
   "name": "python",
   "nbconvert_exporter": "python",
   "pygments_lexer": "ipython3",
   "version": "3.6.6"
  }
 },
 "nbformat": 4,
 "nbformat_minor": 2
}
